{
 "cells": [
  {
   "cell_type": "code",
   "execution_count": 1,
   "id": "679001d5",
   "metadata": {},
   "outputs": [],
   "source": [
    "from tensorflow import keras\n",
    "from scipy import special\n",
    "import scipy\n",
    "import numpy as np\n",
    "import numpy as np\n",
    "import matplotlib.pyplot as plt"
   ]
  },
  {
   "cell_type": "code",
   "execution_count": 2,
   "id": "fb29536c",
   "metadata": {},
   "outputs": [
    {
     "name": "stdout",
     "output_type": "stream",
     "text": [
      "Downloading data from https://storage.googleapis.com/tensorflow/tf-keras-datasets/train-labels-idx1-ubyte.gz\n",
      "32768/29515 [=================================] - 0s 0us/step\n",
      "Downloading data from https://storage.googleapis.com/tensorflow/tf-keras-datasets/train-images-idx3-ubyte.gz\n",
      "26427392/26421880 [==============================] - 1s 0us/step\n",
      "Downloading data from https://storage.googleapis.com/tensorflow/tf-keras-datasets/t10k-labels-idx1-ubyte.gz\n",
      "8192/5148 [===============================================] - 0s 0us/step\n",
      "Downloading data from https://storage.googleapis.com/tensorflow/tf-keras-datasets/t10k-images-idx3-ubyte.gz\n",
      "4423680/4422102 [==============================] - 0s 0us/step\n"
     ]
    }
   ],
   "source": [
    "(train_data, train_label), (test_data, test_label) = keras.datasets.fashion_mnist.load_data()"
   ]
  },
  {
   "cell_type": "code",
   "execution_count": 3,
   "id": "a583873e",
   "metadata": {},
   "outputs": [
    {
     "name": "stdout",
     "output_type": "stream",
     "text": [
      "Train data: (60000, 28, 28)\n",
      "Train labels: (60000,)\n",
      "Test data:  (10000, 28, 28)\n",
      "Test labels:  (10000,)\n"
     ]
    }
   ],
   "source": [
    "print('Train data: ' + str(train_data.shape))\n",
    "print('Train labels: ' + str(train_label.shape))\n",
    "print('Test data:  '  + str(test_data.shape))\n",
    "print('Test labels:  '  + str(test_label.shape))"
   ]
  },
  {
   "cell_type": "code",
   "execution_count": 7,
   "id": "ef9ded41",
   "metadata": {},
   "outputs": [
    {
     "data": {
      "image/png": "[encoded data removed]",
      "text/plain": [
       "<Figure size 432x288 with 2 Axes>"
      ]
     },
     "metadata": {
      "needs_background": "light"
     },
     "output_type": "display_data"
    },
    {
     "data": {
      "image/png": "[encoded data removed]",
      "text/plain": [
       "<Figure size 432x288 with 2 Axes>"
      ]
     },
     "metadata": {
      "needs_background": "light"
     },
     "output_type": "display_data"
    }
   ],
   "source": [
    "plt.imshow(train_data[45])\n",
    "plt.colorbar()\n",
    "plt.show()\n",
    "plt.imshow(train_data[1500])\n",
    "plt.colorbar()\n",
    "plt.show()"
   ]
  },
  {
   "cell_type": "code",
   "execution_count": 13,
   "id": "8510539a",
   "metadata": {},
   "outputs": [
    {
     "name": "stdout",
     "output_type": "stream",
     "text": [
      "2\n"
     ]
    }
   ],
   "source": [
    "print(train_label[45])"
   ]
  },
  {
   "cell_type": "code",
   "execution_count": 14,
   "id": "6702502c",
   "metadata": {},
   "outputs": [
    {
     "name": "stdout",
     "output_type": "stream",
     "text": [
      "[0 0 1 0 0 0 0 0 0 0]\n"
     ]
    }
   ],
   "source": [
    "train_label_vector = np.array([[int(j == i) for j in range(10)] for i in train_label])\n",
    "print(train_label_vector[45])"
   ]
  },
  {
   "cell_type": "code",
   "execution_count": 24,
   "id": "2cacfbd8",
   "metadata": {},
   "outputs": [
    {
     "name": "stdout",
     "output_type": "stream",
     "text": [
      "Acc: 71.23%\n",
      "Acc: 81.75%\n",
      "Acc: 83.41%\n",
      "Acc: 84.27%\n",
      "Acc: 84.84%\n",
      "Acc: 85.28%\n",
      "Acc: 85.57%\n",
      "Acc: 85.89%\n",
      "Acc: 86.12%\n",
      "Acc: 86.26%\n",
      "Acc: 86.48%\n",
      "Acc: 86.65%\n",
      "Acc: 86.83%\n",
      "Acc: 86.92%\n",
      "Acc: 87.08%\n",
      "Acc: 87.24%\n",
      "Acc: 87.35%\n",
      "Acc: 87.45%\n",
      "Acc: 87.53%\n",
      "Acc: 87.64%\n"
     ]
    }
   ],
   "source": [
    "w_i_h = np.random.uniform(-0.5, 0.5, (20, 784)) #weight input hidden\n",
    "w_h_o = np.random.uniform(-0.5, 0.5, (10, 20)) #wheight hidden output\n",
    "b_i_h = np.zeros((20, 1)) # bias input hidden\n",
    "b_h_o = np.zeros((10, 1)) #bias hidden output\n",
    "\n",
    "lr = 0.005 #learning rate\n",
    "nr_correct = 0\n",
    "epochs = 20\n",
    "#train_data = train_data > 0\n",
    "train_data = train_data.reshape((60000, 28*28,1))\n",
    "#train_data = train_data > 0\n",
    "train_label_vector = train_label_vector.reshape((60000,10,1))\n",
    "for epoch in range(epochs):\n",
    "    for img, l in zip(train_data, train_label_vector):\n",
    "        h_pre = b_i_h + w_i_h @ img\n",
    "        h = 1 / (1 + np.exp(-h_pre))\n",
    "        o_pre = b_h_o + w_h_o @ h\n",
    "        o = 1 / (1 + np.exp(-o_pre))\n",
    "        e = 1 / len(o) * np.sum((o - l) ** 2, axis=0)\n",
    "        nr_correct += int(np.argmax(o) == np.argmax(l))\n",
    "        delta_o = o - l\n",
    "        w_h_o += -lr * delta_o @ np.transpose(h)\n",
    "        b_h_o += -lr * delta_o\n",
    "        # Backpropagation hidden -> input (activation function derivative)\n",
    "        delta_h = np.transpose(w_h_o) @ delta_o * (h * (1 - h))\n",
    "        w_i_h += -lr * delta_h @ np.transpose(img)\n",
    "        b_i_h += -lr * delta_h\n",
    "    print(f\"Acc: {round((nr_correct / train_data.shape[0]) * 100, 2)}%\")\n",
    "    nr_correct = 0"
   ]
  },
  {
   "cell_type": "code",
   "execution_count": null,
   "id": "da16f27f",
   "metadata": {},
   "outputs": [
    {
     "name": "stdout",
     "output_type": "stream",
     "text": [
      "Introduzca un número en este rango (0 - 10000): 56\n"
     ]
    },
    {
     "name": "stderr",
     "output_type": "stream",
     "text": [
      "<ipython-input-25-6852531b650b>:18: RuntimeWarning: overflow encountered in exp\n",
      "  h = 1 / (1 + np.exp(-h_pre))\n"
     ]
    },
    {
     "data": {
      "image/png": "[encoded data removed]",
      "text/plain": [
       "<Figure size 432x288 with 1 Axes>"
      ]
     },
     "metadata": {
      "needs_background": "light"
     },
     "output_type": "display_data"
    },
    {
     "name": "stdout",
     "output_type": "stream",
     "text": [
      "Introduzca un número en este rango (0 - 10000): 2500\n"
     ]
    },
    {
     "data": {
      "image/png": "[encoded data removed]",
      "text/plain": [
       "<Figure size 432x288 with 1 Axes>"
      ]
     },
     "metadata": {
      "needs_background": "light"
     },
     "output_type": "display_data"
    },
    {
     "name": "stdout",
     "output_type": "stream",
     "text": [
      "Introduzca un número en este rango (0 - 10000): 45\n"
     ]
    },
    {
     "data": {
      "image/png": "[encoded data removed]",
      "text/plain": [
       "<Figure size 432x288 with 1 Axes>"
      ]
     },
     "metadata": {
      "needs_background": "light"
     },
     "output_type": "display_data"
    },
    {
     "name": "stdout",
     "output_type": "stream",
     "text": [
      "Introduzca un número en este rango (0 - 10000): 678\n"
     ]
    },
    {
     "data": {
      "image/png": "[encoded data removed]",
      "text/plain": [
       "<Figure size 432x288 with 1 Axes>"
      ]
     },
     "metadata": {
      "needs_background": "light"
     },
     "output_type": "display_data"
    }
   ],
   "source": [
    "items = [\"T-shirt/top\",\n",
    "    \"Trouser\",\n",
    "    \"Pullover\",\n",
    "    \"Dress\",\n",
    "    \"Coat\",\n",
    "    \"Sandal\",\n",
    "    \"Shirt\",\n",
    "    \"Sneaker\",\n",
    "    \"Bag\",\n",
    "    \"Ankle boot\"]\n",
    "\n",
    "while True:\n",
    "    index = int(input(\"Introduzca un número en este rango (0 - 10000): \"))\n",
    "    img = test_data[index]\n",
    "    plt.imshow(img.reshape(28, 28))\n",
    "    # Forward propagation input -> hidden\n",
    "    h_pre = b_i_h + w_i_h @ img.reshape(784, 1)\n",
    "    h = 1 / (1 + np.exp(-h_pre))\n",
    "    # Forward propagation hidden -> output\n",
    "    o_pre = b_h_o + w_h_o @ h\n",
    "    o = 1 / (1 + np.exp(-o_pre))\n",
    "\n",
    "    plt.title(f\"Result is: {items[o.argmax()]}\")\n",
    "    plt.show()"
   ]
  },
  {
   "cell_type": "code",
   "execution_count": null,
   "id": "f4ca26e1",
   "metadata": {},
   "outputs": [],
   "source": []
  }
 ],
 "metadata": {
  "kernelspec": {
   "display_name": "Python 3",
   "language": "python",
   "name": "python3"
  },
  "language_info": {
   "codemirror_mode": {
    "name": "ipython",
    "version": 3
   },
   "file_extension": ".py",
   "mimetype": "text/x-python",
   "name": "python",
   "nbconvert_exporter": "python",
   "pygments_lexer": "ipython3",
   "version": "3.8.8"
  }
 },
 "nbformat": 4,
 "nbformat_minor": 5
}
